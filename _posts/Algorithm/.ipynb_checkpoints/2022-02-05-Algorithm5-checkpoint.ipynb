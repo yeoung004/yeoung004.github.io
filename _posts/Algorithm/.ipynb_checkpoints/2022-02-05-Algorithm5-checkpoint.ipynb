{
 "cells": [
  {
   "cell_type": "markdown",
   "metadata": {},
   "source": [
    "# 2022.02.05 알고리즘"
   ]
  },
  {
   "cell_type": "markdown",
   "metadata": {},
   "source": [
    "### 1712\t손익분기점"
   ]
  },
  {
   "cell_type": "code",
   "execution_count": 3,
   "metadata": {},
   "outputs": [
    {
     "name": "stdin",
     "output_type": "stream",
     "text": [
      " 1000 70 170\n"
     ]
    },
    {
     "name": "stdout",
     "output_type": "stream",
     "text": [
      "11\n"
     ]
    }
   ],
   "source": [
    "price = list(map(int, input().split()))\n",
    "adv = price[2] -price[1]\n",
    "\n",
    "if(adv <= 0):\n",
    "    print(-1)\n",
    "else:\n",
    "    print(int(price[0] / adv + 1))"
   ]
  },
  {
   "cell_type": "markdown",
   "metadata": {},
   "source": [
    "### 2292\t벌집"
   ]
  },
  {
   "cell_type": "code",
   "execution_count": 24,
   "metadata": {},
   "outputs": [
    {
     "name": "stdin",
     "output_type": "stream",
     "text": [
      " 91\n"
     ]
    },
    {
     "name": "stdout",
     "output_type": "stream",
     "text": [
      "6\n"
     ]
    }
   ],
   "source": [
    "dest = int(input())\n",
    "cnt = 1\n",
    "mid = 2\n",
    "\n",
    "while mid <= dest:\n",
    "    mid += cnt * 6\n",
    "    cnt += 1\n",
    "    \n",
    "print(cnt)"
   ]
  },
  {
   "cell_type": "markdown",
   "metadata": {},
   "source": [
    "### 1193\t분수찾기"
   ]
  },
  {
   "cell_type": "code",
   "execution_count": 71,
   "metadata": {},
   "outputs": [
    {
     "name": "stdin",
     "output_type": "stream",
     "text": [
      " 14\n"
     ]
    },
    {
     "name": "stdout",
     "output_type": "stream",
     "text": [
      "2/4\n",
      "0.5541262627\n"
     ]
    }
   ],
   "source": [
    "des = int(input())\n",
    "ori = 2\n",
    "num = ori\n",
    "isRight = True\n",
    "\n",
    "if des == 1:\n",
    "    print('{}/{}'.format(1, 1))\n",
    "else:\n",
    "    for i in range(des):\n",
    "        if num == 1 :\n",
    "            num = ori\n",
    "            ori += 1\n",
    "            isRight = not isRight\n",
    "        else:\n",
    "            num -= 1\n",
    "if isRight:\n",
    "    print('{}/{}'.format(num, ori - num))\n",
    "else:\n",
    "    print('{}/{}'.format(ori - num, num))"
   ]
  },
  {
   "cell_type": "code",
   "execution_count": 79,
   "metadata": {},
   "outputs": [
    {
     "name": "stdin",
     "output_type": "stream",
     "text": [
      " 15\n"
     ]
    },
    {
     "name": "stdout",
     "output_type": "stream",
     "text": [
      "1/5\n"
     ]
    }
   ],
   "source": [
    "des = int(input())\n",
    "line = 1\n",
    "\n",
    "while des > line:\n",
    "    des -= line\n",
    "    line += 1\n",
    "\n",
    "if line % 2 == 0:\n",
    "    a = des\n",
    "    b = line - des + 1\n",
    "else:\n",
    "    a = line - des + 1\n",
    "    b = des\n",
    "    \n",
    "print(a, \"/\", b, sep=\"\")"
   ]
  }
 ],
 "metadata": {
  "kernelspec": {
   "display_name": "Python 3",
   "language": "python",
   "name": "python3"
  },
  "language_info": {
   "codemirror_mode": {
    "name": "ipython",
    "version": 3
   },
   "file_extension": ".py",
   "mimetype": "text/x-python",
   "name": "python",
   "nbconvert_exporter": "python",
   "pygments_lexer": "ipython3",
   "version": "3.7.6"
  }
 },
 "nbformat": 4,
 "nbformat_minor": 4
}
