{
 "cells": [
  {
   "cell_type": "markdown",
   "metadata": {},
   "source": [
    "### in : 정수 N\n",
    "### out : 숫자 3이 들어간 N시 59 59초까지의 개수"
   ]
  },
  {
   "cell_type": "code",
   "execution_count": 18,
   "metadata": {},
   "outputs": [
    {
     "name": "stdout",
     "output_type": "stream",
     "text": [
      "5\n",
      "11475\n"
     ]
    }
   ],
   "source": [
    "n = int(input())\n",
    "cnt = 0\n",
    "\n",
    "for hour in range(n+1):\n",
    "    for minute in range(60):\n",
    "        for second in range(60):\n",
    "            if '3' in str(hour) + str(minute) + str(second):\n",
    "                cnt = cnt + 1\n",
    "                \n",
    "print(cnt)"
   ]
  },
  {
   "cell_type": "markdown",
   "metadata": {},
   "source": [
    "### in : 문자열 N 나이트가 있는 위치\n",
    "### out : 나이트가 움직일수 있는 경우의 수"
   ]
  },
  {
   "cell_type": "code",
   "execution_count": null,
   "metadata": {},
   "outputs": [],
   "source": [
    "place = input()\n",
    "\n"
   ]
  }
 ],
 "metadata": {
  "kernelspec": {
   "display_name": "Python 3",
   "language": "python",
   "name": "python3"
  },
  "language_info": {
   "codemirror_mode": {
    "name": "ipython",
    "version": 3
   },
   "file_extension": ".py",
   "mimetype": "text/x-python",
   "name": "python",
   "nbconvert_exporter": "python",
   "pygments_lexer": "ipython3",
   "version": "3.7.6"
  }
 },
 "nbformat": 4,
 "nbformat_minor": 4
}
