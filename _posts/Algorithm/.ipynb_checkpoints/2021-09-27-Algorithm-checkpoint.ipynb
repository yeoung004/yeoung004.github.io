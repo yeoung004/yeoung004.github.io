{
 "cells": [
  {
   "cell_type": "markdown",
   "metadata": {},
   "source": [
    "### <동전 거슬러주는 프로그램>\n",
    "#### Input(거슬러 줘야하는 금액), Out(총 동전의 갯수)"
   ]
  },
  {
   "cell_type": "code",
   "execution_count": 11,
   "metadata": {},
   "outputs": [
    {
     "name": "stdout",
     "output_type": "stream",
     "text": [
      "500원: 2개\n",
      "100원: 2개\n",
      "50원: 1개\n",
      "10원: 1개\n",
      "6\n"
     ]
    }
   ],
   "source": [
    "n = 1260\n",
    "coins = [500, 100, 50, 10]\n",
    "count = 0\n",
    "\n",
    "for coin in coins:\n",
    "    print(str(int(coin)) + \"원: \" + str(int(n / coin)) + \"개\")\n",
    "    count+=int(n / coin)\n",
    "    n %= coin\n",
    "print(count)"
   ]
  },
  {
   "cell_type": "markdown",
   "metadata": {},
   "source": [
    "화폐의 종류 만큼 반복문을 수행하기 때문에 시간 복잡도는 O(K)이다"
   ]
  },
  {
   "cell_type": "markdown",
   "metadata": {},
   "source": [
    "### <1이 될 때까지>\n",
    "#### 어떠한 수 N이 1이 될 때까지 다른의 두 과정 중 하나를 반복적으로 수행하려함\n",
    "#### 1. N에서 1을 뺌\n",
    "#### 2. N을 K로 나눔\n",
    "#### 2번 쨰 연산을 사용할 경우는 0으로 나누어 떨어질때만 사용 가능\n",
    "#### In(N: 어떠한 수, K: 나눠야할 수) Out(M: 과정을 수행한 최솟값)"
   ]
  },
  {
   "cell_type": "code",
   "execution_count": 17,
   "metadata": {},
   "outputs": [
    {
     "name": "stdout",
     "output_type": "stream",
     "text": [
      "3\n"
     ]
    }
   ],
   "source": [
    "n = 25\n",
    "k = 5\n",
    "count = 0\n",
    "\n",
    "while n > 0:\n",
    "    if(n % k == 0):\n",
    "        n /= k\n",
    "    else:\n",
    "        n -= 1\n",
    "    count += 1\n",
    "    \n",
    "print(str(count))"
   ]
  },
  {
   "cell_type": "code",
   "execution_count": null,
   "metadata": {},
   "outputs": [],
   "source": []
  }
 ],
 "metadata": {
  "kernelspec": {
   "display_name": "Python 3",
   "language": "python",
   "name": "python3"
  },
  "language_info": {
   "codemirror_mode": {
    "name": "ipython",
    "version": 3
   },
   "file_extension": ".py",
   "mimetype": "text/x-python",
   "name": "python",
   "nbconvert_exporter": "python",
   "pygments_lexer": "ipython3",
   "version": "3.7.6"
  }
 },
 "nbformat": 4,
 "nbformat_minor": 4
}
