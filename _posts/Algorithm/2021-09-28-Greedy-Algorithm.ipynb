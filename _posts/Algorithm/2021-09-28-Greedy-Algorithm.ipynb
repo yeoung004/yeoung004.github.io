{
 "cells": [
  {
   "cell_type": "markdown",
   "metadata": {},
   "source": [
    "## 곱하기 혹은 더하기\n",
    "### 각 자리 숫자(0 ~ 9)로만 이루어진 문자열 S가 주어졌을 때,  왼쪽 부터 오른쪽 으로 하나씩 모든 숫자를 확인하며 숫자 사이에 x, +를 먼저 계산하는 만들어질 수 있는 가장 큰 수를 구하는 프로그램\n",
    "### In(S), Out(n)"
   ]
  },
  {
   "cell_type": "code",
   "execution_count": 20,
   "metadata": {},
   "outputs": [
    {
     "name": "stdout",
     "output_type": "stream",
     "text": [
      "02984\n",
      "576\n"
     ]
    }
   ],
   "source": [
    "numbers = input()\n",
    "n = int(numbers[0])\n",
    "\n",
    "for i in range(1, len(numbers)):\n",
    "    num = int(numbers[i])\n",
    "    \n",
    "    if num <= 1 or n <= 1 :\n",
    "        n += num\n",
    "    else:\n",
    "        n *= num\n",
    "print(n)        "
   ]
  },
  {
   "cell_type": "markdown",
   "metadata": {},
   "source": [
    "### 모험가 길드\n",
    "#### 공포도가 X인 모험가는 반드시 X명 이상으로 구성한 모험가 그룹에 참여 해야함\n",
    "#### N명의 모험가에 대한 정보가 주어졌을 때, 여행을 떠날 수 있는 그룹 수의 최댓값을 구하는 프로그램"
   ]
  },
  {
   "cell_type": "code",
   "execution_count": 30,
   "metadata": {},
   "outputs": [
    {
     "name": "stdout",
     "output_type": "stream",
     "text": [
      "5\n",
      "2 3 1 2 2\n",
      "2\n"
     ]
    }
   ],
   "source": [
    "number = int(input())\n",
    "adventurer = list(map(int, input().split()))\n",
    "group = 0\n",
    "adventurer.sort()\n",
    "temp = 0\n",
    "\n",
    "for i in adventurer:\n",
    "    temp += i\n",
    "    \n",
    "    if temp >= number:\n",
    "        group += 1\n",
    "        temp = 0\n",
    "        \n",
    "print(str(group))"
   ]
  },
  {
   "cell_type": "markdown",
   "metadata": {},
   "source": [
    "### 상하좌우"
   ]
  },
  {
   "cell_type": "code",
   "execution_count": 53,
   "metadata": {},
   "outputs": [
    {
     "name": "stdout",
     "output_type": "stream",
     "text": [
      "5\n",
      "R R R U D D\n",
      "(  here  ) ( 1 ,  2 ) ( 1 ,  3 ) ( 1 ,  4 ) ( 1 ,  5 ) ( 1 ,  6 ) \n",
      "( 2 ,  1 ) ( 2 ,  2 ) ( 2 ,  3 ) ( 2 ,  4 ) ( 2 ,  5 ) ( 2 ,  6 ) \n",
      "( 3 ,  1 ) ( 3 ,  2 ) ( 3 ,  3 ) ( 3 ,  4 ) ( 3 ,  5 ) ( 3 ,  6 ) \n",
      "( 4 ,  1 ) ( 4 ,  2 ) ( 4 ,  3 ) ( 4 ,  4 ) ( 4 ,  5 ) ( 4 ,  6 ) \n",
      "( 5 ,  1 ) ( 5 ,  2 ) ( 5 ,  3 ) ( 5 ,  4 ) ( 5 ,  5 ) ( 5 ,  6 ) \n",
      "( 6 ,  1 ) ( 6 ,  2 ) ( 6 ,  3 ) ( 6 ,  4 ) ( 6 ,  5 ) ( 6 ,  6 ) \n",
      "\n",
      "0 , 1\n",
      "( 1 ,  1 ) (  here  ) ( 1 ,  3 ) ( 1 ,  4 ) ( 1 ,  5 ) ( 1 ,  6 ) \n",
      "( 2 ,  1 ) ( 2 ,  2 ) ( 2 ,  3 ) ( 2 ,  4 ) ( 2 ,  5 ) ( 2 ,  6 ) \n",
      "( 3 ,  1 ) ( 3 ,  2 ) ( 3 ,  3 ) ( 3 ,  4 ) ( 3 ,  5 ) ( 3 ,  6 ) \n",
      "( 4 ,  1 ) ( 4 ,  2 ) ( 4 ,  3 ) ( 4 ,  4 ) ( 4 ,  5 ) ( 4 ,  6 ) \n",
      "( 5 ,  1 ) ( 5 ,  2 ) ( 5 ,  3 ) ( 5 ,  4 ) ( 5 ,  5 ) ( 5 ,  6 ) \n",
      "( 6 ,  1 ) ( 6 ,  2 ) ( 6 ,  3 ) ( 6 ,  4 ) ( 6 ,  5 ) ( 6 ,  6 ) \n",
      "\n",
      "0 , 1\n",
      "( 1 ,  1 ) ( 1 ,  2 ) (  here  ) ( 1 ,  4 ) ( 1 ,  5 ) ( 1 ,  6 ) \n",
      "( 2 ,  1 ) ( 2 ,  2 ) ( 2 ,  3 ) ( 2 ,  4 ) ( 2 ,  5 ) ( 2 ,  6 ) \n",
      "( 3 ,  1 ) ( 3 ,  2 ) ( 3 ,  3 ) ( 3 ,  4 ) ( 3 ,  5 ) ( 3 ,  6 ) \n",
      "( 4 ,  1 ) ( 4 ,  2 ) ( 4 ,  3 ) ( 4 ,  4 ) ( 4 ,  5 ) ( 4 ,  6 ) \n",
      "( 5 ,  1 ) ( 5 ,  2 ) ( 5 ,  3 ) ( 5 ,  4 ) ( 5 ,  5 ) ( 5 ,  6 ) \n",
      "( 6 ,  1 ) ( 6 ,  2 ) ( 6 ,  3 ) ( 6 ,  4 ) ( 6 ,  5 ) ( 6 ,  6 ) \n",
      "\n",
      "0 , 1\n",
      "( 1 ,  1 ) ( 1 ,  2 ) ( 1 ,  3 ) (  here  ) ( 1 ,  5 ) ( 1 ,  6 ) \n",
      "( 2 ,  1 ) ( 2 ,  2 ) ( 2 ,  3 ) ( 2 ,  4 ) ( 2 ,  5 ) ( 2 ,  6 ) \n",
      "( 3 ,  1 ) ( 3 ,  2 ) ( 3 ,  3 ) ( 3 ,  4 ) ( 3 ,  5 ) ( 3 ,  6 ) \n",
      "( 4 ,  1 ) ( 4 ,  2 ) ( 4 ,  3 ) ( 4 ,  4 ) ( 4 ,  5 ) ( 4 ,  6 ) \n",
      "( 5 ,  1 ) ( 5 ,  2 ) ( 5 ,  3 ) ( 5 ,  4 ) ( 5 ,  5 ) ( 5 ,  6 ) \n",
      "( 6 ,  1 ) ( 6 ,  2 ) ( 6 ,  3 ) ( 6 ,  4 ) ( 6 ,  5 ) ( 6 ,  6 ) \n",
      "\n",
      "-1 , 0\n",
      "1 , 0\n",
      "( 1 ,  1 ) ( 1 ,  2 ) ( 1 ,  3 ) ( 1 ,  4 ) ( 1 ,  5 ) ( 1 ,  6 ) \n",
      "( 2 ,  1 ) ( 2 ,  2 ) ( 2 ,  3 ) (  here  ) ( 2 ,  5 ) ( 2 ,  6 ) \n",
      "( 3 ,  1 ) ( 3 ,  2 ) ( 3 ,  3 ) ( 3 ,  4 ) ( 3 ,  5 ) ( 3 ,  6 ) \n",
      "( 4 ,  1 ) ( 4 ,  2 ) ( 4 ,  3 ) ( 4 ,  4 ) ( 4 ,  5 ) ( 4 ,  6 ) \n",
      "( 5 ,  1 ) ( 5 ,  2 ) ( 5 ,  3 ) ( 5 ,  4 ) ( 5 ,  5 ) ( 5 ,  6 ) \n",
      "( 6 ,  1 ) ( 6 ,  2 ) ( 6 ,  3 ) ( 6 ,  4 ) ( 6 ,  5 ) ( 6 ,  6 ) \n",
      "\n",
      "1 , 0\n",
      "( 1 ,  1 ) ( 1 ,  2 ) ( 1 ,  3 ) ( 1 ,  4 ) ( 1 ,  5 ) ( 1 ,  6 ) \n",
      "( 2 ,  1 ) ( 2 ,  2 ) ( 2 ,  3 ) ( 2 ,  4 ) ( 2 ,  5 ) ( 2 ,  6 ) \n",
      "( 3 ,  1 ) ( 3 ,  2 ) ( 3 ,  3 ) (  here  ) ( 3 ,  5 ) ( 3 ,  6 ) \n",
      "( 4 ,  1 ) ( 4 ,  2 ) ( 4 ,  3 ) ( 4 ,  4 ) ( 4 ,  5 ) ( 4 ,  6 ) \n",
      "( 5 ,  1 ) ( 5 ,  2 ) ( 5 ,  3 ) ( 5 ,  4 ) ( 5 ,  5 ) ( 5 ,  6 ) \n",
      "( 6 ,  1 ) ( 6 ,  2 ) ( 6 ,  3 ) ( 6 ,  4 ) ( 6 ,  5 ) ( 6 ,  6 ) \n",
      "\n",
      "( 3 , 4 )\n"
     ]
    }
   ],
   "source": [
    "def move(x, y, size):\n",
    "    for i in range(0,size):\n",
    "        for j in range(0,size):\n",
    "            if i == x and j == y:\n",
    "                    print('(  here  )',end = ' ')\n",
    "            else:\n",
    "                print('(', i + 1 , ', ', j + 1 , ')',end = ' ')\n",
    "        print()\n",
    "\n",
    "#크기\n",
    "size = int(input()) + 1\n",
    "\n",
    "#명령\n",
    "com = map(str, input().split())\n",
    "\n",
    "#현재 위치\n",
    "x, y = 0, 0\n",
    "\n",
    "#동, 북, 서, 남\n",
    "dx = [0, -1, 0, 1] \n",
    "dy = [1, 0, -1, 0] \n",
    "\n",
    "move_types = {'R' : 0,\n",
    "              'U' : 1,\n",
    "              'L' : 2,\n",
    "              'D' : 3\n",
    "             }\n",
    "\n",
    "temp_y = 0\n",
    "temp_x = 0\n",
    "\n",
    "move(x, y, size)\n",
    "print()\n",
    "\n",
    "for i in com:\n",
    "    print(dx[move_types[i]], ',' , dy[move_types[i]])\n",
    "    temp_x = x + dx[move_types[i]]\n",
    "    temp_y = y + dy[move_types[i]]\n",
    "    \n",
    "    if temp_x < 0 or temp_x > size or temp_y < 0 or temp_y > size:\n",
    "        continue\n",
    "    \n",
    "    x = temp_x\n",
    "    y = temp_y\n",
    "    move(x, y, size)\n",
    "    print()\n",
    "    \n",
    "print('(', x + 1, ',', y +1 , ')')"
   ]
  },
  {
   "cell_type": "code",
   "execution_count": null,
   "metadata": {},
   "outputs": [],
   "source": []
  }
 ],
 "metadata": {
  "kernelspec": {
   "display_name": "Python 3",
   "language": "python",
   "name": "python3"
  },
  "language_info": {
   "codemirror_mode": {
    "name": "ipython",
    "version": 3
   },
   "file_extension": ".py",
   "mimetype": "text/x-python",
   "name": "python",
   "nbconvert_exporter": "python",
   "pygments_lexer": "ipython3",
   "version": "3.7.6"
  }
 },
 "nbformat": 4,
 "nbformat_minor": 4
}
