{
 "cells": [
  {
   "cell_type": "markdown",
   "metadata": {},
   "source": [
    "### in : 정수 N\n",
    "### out : 숫자 3이 들어간 N시 59 59초까지의 개수"
   ]
  },
  {
   "cell_type": "code",
   "execution_count": 8,
   "metadata": {},
   "outputs": [
    {
     "name": "stdout",
     "output_type": "stream",
     "text": [
      "5\n",
      "21541\n"
     ]
    }
   ],
   "source": [
    "n = int(input())\n",
    "cnt = 0\n",
    "\n",
    "for hour in range(0, n):\n",
    "    for minute in range(0, 60):\n",
    "        for second in range(0, 60):\n",
    "            if(hour or minute or second == 3):\n",
    "                cnt = cnt + 1\n",
    "                \n",
    "print(cnt)"
   ]
  }
 ],
 "metadata": {
  "kernelspec": {
   "display_name": "Python 3",
   "language": "python",
   "name": "python3"
  },
  "language_info": {
   "codemirror_mode": {
    "name": "ipython",
    "version": 3
   },
   "file_extension": ".py",
   "mimetype": "text/x-python",
   "name": "python",
   "nbconvert_exporter": "python",
   "pygments_lexer": "ipython3",
   "version": "3.7.6"
  }
 },
 "nbformat": 4,
 "nbformat_minor": 4
}
